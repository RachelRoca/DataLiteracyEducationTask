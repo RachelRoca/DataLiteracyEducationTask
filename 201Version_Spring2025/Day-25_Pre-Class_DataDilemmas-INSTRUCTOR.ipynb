{
 "cells": [
  {
   "cell_type": "markdown",
   "metadata": {},
   "source": [
    "# Day 25 Pre-Class - Data Dilemmas: Ethics in an Algorithmic World"
   ]
  },
  {
   "cell_type": "markdown",
   "metadata": {},
   "source": [
    "### <p style=\"text-align: right;\"> &#9989; Put your name here</p>"
   ]
  },
  {
   "cell_type": "markdown",
   "metadata": {},
   "source": [
    "\n",
    "<img src=\"https://cdn-images-1.medium.com/max/2000/1*rY3-IGAtdqiDDA9cutdOZA@2x.png\" width=600>\n",
    "\n",
    "### Goals for Today's Pre-Class Assignment\n",
    "By the end of this assignment, you should be able to:\n",
    "* Evaluate the impact the data and algorithmic bias can have on real-life decisions\n",
    "* Differentiate between intent and impact of Machine Learning models\n",
    "* Identify benefits and consequences of using ML and AI tools\n",
    "* Compare similarities between models and simulations to real-life inequities\n",
    "* Read and interpret professional code built to create a simulation\n",
    "  \n",
    "\n",
    "### Assignment instructions\n",
    "\n",
    "In today's assignment, we'll be talking about bias that's inherent in data and the implications it can have on hiring practices.  "
   ]
  },
  {
   "cell_type": "markdown",
   "metadata": {},
   "source": [
    "---\n",
    "# Survival of the Best Fit\n",
    "The simulation you are going to interact with today, \"Survival of the Best Fit,\" was developed by Gabor Csapo, Jihyun Kim, Miha Klasinc, and Alia ElKattan. Their intention was to create an accessible tool to educate individuals on the impact of ML and AI tools in our everyday lives. As we've learned during this semester and continue to discover, machine learning models can perpetuate human biases and inequities.  \n"
   ]
  },
  {
   "cell_type": "markdown",
   "metadata": {},
   "source": [
    "## Play the Game\n",
    "Congrats! You scored 1 million dollars from Orange Valley ventures to build your own startup! In order to create a successful business, you need to hire folks to work with you. As in the real-world, each individual has their own set of unique skills and you need to decide if they are a good fit for your start up. \n",
    "\n",
    "After doing this for some time, you realize reviewing and interviewing new potential candidates is taking up a lot of hours in your hectic work week! You decide to implement a machine learning model to recommend new hires based on the resumes of individuals you have previously hired. \n",
    "\n",
    "&#9989;&nbsp; Spend about 10 minutes playing a round of [Surival of the Best Fit](https://www.survivalofthebestfit.com/). The simulation will walk you through how to hire individuals and the implementation of the ML model. \n"
   ]
  },
  {
   "cell_type": "markdown",
   "metadata": {},
   "source": [
    "## Thinking About the Games\n",
    "&#9989;&nbsp; Answer the following questions in the cells below based on your experience of interacting with \"Survival of the Best Fit.\"\n",
    "\n",
    "1. Reflection: intent vs impact:\n",
    "   1. Why was an algorithm implemented in the first place to assist in hiring new individuals? What was the intention of using machine learning? Was the intention malicious?\n",
    "   2. How did you feel when you were playing the game? Reflect on how these emotions might have contributed to the decisions that were made within the simulation.\n",
    "   3. What was the impact on the candidates of using an algorithm to assist in the hiring process?\n",
    "2. What was your strategy when deciding who to hire? How did the game react to your choices?\n",
    "3. Were you surprised by the tendencies of the algorithm? Why or why not?\n",
    "4. Play through the simulation a few times. What aspects stay the same, and what changes, regardless of the choices you make?"
   ]
  },
  {
   "cell_type": "markdown",
   "metadata": {},
   "source": [
    "<font size=6 color=\"#009600\">&#9998;</font>  *Put your answers here!*"
   ]
  },
  {
   "cell_type": "markdown",
   "metadata": {},
   "source": [
    "### ANSWER\n",
    "\n",
    "Instructors should lead discussion and reflection during class time around the above questions. Below are some possible answers to the questions, and context worth bringing up in discusssions.\n",
    "\n",
    "1. Students should mention that the ML was added to speed up the hiring process. Intent was to make things faster and hire candidates similar to when hiring without the ML. Impact was that the machine learned the biases in the data and when the boss was hiring without the ML - which lead to furthing inequities. Students may note that they were feeling stressed or under pressure when playing the game, which can further be tied to impact vs. intent. The students weren't feeling `evil' or malicious, but they were feeling rushed and stressed. This can also be expanded to think about societal norms that lead to this sort of situation in the first place: hussle culture, valuing efficiency, blurring work/life boundaries, etc.\n",
    "2. Any discussion of strategy is fine. Usually looking at candidates CVs and qualifications, maybe looking for one skill over the other. There is some deterministic components built into the game, this can limit/affect choices students are allowed to make. It is worth noting that the CV qualities (skill, school prestige, work experience, ambition) are not innate qualities of the individuals, but highly dependent on the opportunities they have had in life, as well as factors like socio-economic status. Aside: traits we may consider as innate qualities (such as intelligence) have a harried and flawed history and backing.\n",
    "3. Any discussion is fine. Student learn that the algorithm is more likely to hire orange individuals over blue individuals, despite the average performance of both groups being the same. They learn that this decision mimics that of the original boss when they were hiring individuals before using the algorithms. Additionally, the percentage of applicants received in the orange category is also biased due to the types of individuals that typically work (or are allowed to work) in tech; it builds of other systemic inequities. \n",
    "4. There's always a orange/blue inequity as it is built in, regardless of the choices made in the beginning of the game. This can be an opportunity to discuss deterministic vs. non-deterministic systems, and speculating the reasons why the game was built as it was."
   ]
  },
  {
   "cell_type": "markdown",
   "metadata": {},
   "source": [
    "## What's actually happening in the simulation?\n",
    "\n",
    "As you might have noticed, the simulation is a simplified version of the real-world hiring process. Looking back to question 4 in the part above, you might have noticed that no matter what decisions you made the outcome stays the same. This is not an accident. You'll learn more about how exactly this works in the In-Class Assignment.\n",
    "\n",
    "Simulations like this are called *deterministic* simulations. A deterministic model is a model in which the result is determined by the inputs. In other words, the outcome is predictable. This is in contrast to a *stochastic* model, where the result is not determined by the inputs, because there is randomness involved.\n",
    "\n",
    "For example, we spent a lot of time earlier in the semester learning about and coding compound interest (Day 3 and 5). If we know what the interest rate is, how much money we start with, and how much we add each year, we can predict exactly how much money we will have in the future. This is a deterministic model. On the otherhand, if we wanted to determine how much money we would have in the future if we invested in the stock market, we would have to use a stochastic model, because the stock market is unpredictable and contains elements of randomness. \n",
    "\n",
    "&#9989;&nbsp; Answer the following questions in the cell below:\n",
    "1. What are the decisions you made in the game? When you changed your decisions, did the outcome change?\n",
    "2. Knowing that the game is deterministic and further, doesn't entirely depend on the decisions you make, how does this change your feelings on the game? Does this affect how you think about real-world hiring processes?\n",
    "3. Let's take a step back. The designers of the game had to make a choice to make the game deterministic and it is designed purposefully as an educational tool. How does the motivation of the game as being educational link to the user's limited control on the result? What are the benefits and drawbacks of making the game deterministic?\n"
   ]
  },
  {
   "cell_type": "markdown",
   "metadata": {},
   "source": [
    "<font size=6 color=\"#009600\">&#9998;</font>  *Put your answers here!*"
   ]
  },
  {
   "cell_type": "markdown",
   "metadata": {},
   "source": [
    "### ANSWER\n",
    "\n",
    "1. The decisions made in the game are the initial hiring decisions, and then the decisions to hire or not hire the candidates. You can also decide where the training data comes from (re. Apple, Amazon, etct). The outcome does not change, you'll always see inequities in the hiring process and lose your business.\n",
    "2. Their feelings will very but as long as they describe why they feel that way, it is valid. Students may feel like the game is 'rigged' because they have no control of the outcome, students might purposely try to select all blue people for example. We can emphasize that this is a simplification of the real world, and that the real world is much more complex and nuanced, but that the game is trying to highlight a specific issue and these biases and software used are common place.\n",
    "3. The game is deterministic to highlight the biases in the data and the hiring process. The game is designed to be educational, so the designers wanted to make sure that the player would always see the same outcome. This is to ensure that the player can see the biases in the data and the hiring process. The benefits of making the game deterministic is that it is easier to see the biases in the data and the hiring process. The drawbacks are that the player has no control over the outcome, and the game is not as fun as it could be if the player had more control over the outcome."
   ]
  },
  {
   "cell_type": "markdown",
   "metadata": {},
   "source": [
    "# Learning a Little More \n",
    "\n",
    "After you finish the game, you should be brought to a resources pages on [\"Understanding Algorithmic Bias\"](https://www.survivalofthebestfit.com/resources). \n",
    "\n",
    "&#9989;&nbsp;Spend a few minutes reading through the different sections. Record any thoughts or questions you have about the content in the cell below."
   ]
  },
  {
   "cell_type": "markdown",
   "metadata": {},
   "source": [
    "<font size=6 color=\"#009600\">&#9998;</font>  *Put your thoughts here!*"
   ]
  },
  {
   "cell_type": "markdown",
   "metadata": {},
   "source": [
    "In class, we will spend time looking through how the data and the game were constructed. We will compare how the choices the creators of the simulation made and how they mimic real-life biases and inequities. "
   ]
  },
  {
   "cell_type": "markdown",
   "metadata": {},
   "source": [
    "---\n",
    "## Assignment wrap-up\n",
    "Please fill out the form that appears when you run the code below. You must completely fill this out in order to receive credit for the assignment!"
   ]
  },
  {
   "cell_type": "code",
   "execution_count": null,
   "metadata": {},
   "outputs": [],
   "source": [
    "from IPython.display import HTML\n",
    "HTML(\n",
    "\"\"\"\n",
    "<iframe \n",
    "\tsrc=\"https://cmse.msu.edu/cmse201-pc-survey\" \n",
    "\twidth=\"800\" \n",
    "\theight=\"800px\" \n",
    "\tframeborder=\"0\" \n",
    "\tmarginheight=\"0\" \n",
    "\tmarginwidth=\"0\">\n",
    "\tLoading...\n",
    "</iframe>\n",
    "\"\"\"\n",
    ")"
   ]
  },
  {
   "cell_type": "markdown",
   "metadata": {},
   "source": [
    "---\n",
    "## Congratulations, you're done!\n",
    "\n",
    "Submit this assignment by uploading your notebook to the course web page.\n",
    "\n",
    "See you next class!"
   ]
  },
  {
   "cell_type": "markdown",
   "metadata": {},
   "source": [
    "This assignment was designed by Emily Bolger and Rachel Roca(2024). \n",
    "\n",
    "&#169; Copyright 2024, Department of Computational Mathematics, Science and Engineering at Michigan State University"
   ]
  },
  {
   "cell_type": "markdown",
   "metadata": {},
   "source": []
  }
 ],
 "metadata": {
  "kernelspec": {
   "display_name": "Python 3 (ipykernel)",
   "language": "python",
   "name": "python3"
  },
  "language_info": {
   "codemirror_mode": {
    "name": "ipython",
    "version": 3
   },
   "file_extension": ".py",
   "mimetype": "text/x-python",
   "name": "python",
   "nbconvert_exporter": "python",
   "pygments_lexer": "ipython3",
   "version": "3.11.5"
  }
 },
 "nbformat": 4,
 "nbformat_minor": 4
}
