{
 "cells": [
  {
   "cell_type": "markdown",
   "metadata": {},
   "source": [
    "# Day XX Pre-Class: Data Literacy"
   ]
  },
  {
   "cell_type": "markdown",
   "metadata": {},
   "source": [
    "### <p style=\"text-align: right;\"> &#9989; Put your name here</p>"
   ]
  },
  {
   "cell_type": "markdown",
   "metadata": {},
   "source": [
    "\n",
    "<img src=\"https://cdn-images-1.medium.com/max/2000/1*rY3-IGAtdqiDDA9cutdOZA@2x.png\" width=600>\n",
    "\n",
    "### Goals for Today's Pre-Class Assignment\n",
    "By the end of this assignment, you should be able to:\n",
    "* Understand the impact the data and algorithmic bias can have on real-life decisions\n",
    "* Differentiate between intent and impact of Machine Learning models\n",
    "* Think critically about the creation, usage, and monitoring of ML and AI models\n",
    "\n",
    "### Assignment instructions\n",
    "\n",
    "In today’s assignment, we'll be talking about bias that's inherent in data and the implications it can have on hiring practices.  "
   ]
  },
  {
   "cell_type": "markdown",
   "metadata": {},
   "source": [
    "---\n",
    "# Survival of the Best Fit\n",
    "The simulation you are going to interact with today, \"Survival of the Best Fit,\" was developed by Gabor Csapo, Jihyun Kim, Miha Klasinc, and Alia ElKattan. Their intention was to create an accessible tool to educate individuals on the impact of ML and AI tools in our everyday lives. As we will discover, machine learning models can perpetuate human biases and inequities.  \n"
   ]
  },
  {
   "cell_type": "markdown",
   "metadata": {},
   "source": [
    "## Play the Game\n",
    "Congrats! You scored 1 million dollars from Orange Valley ventures to build your own startup! In order to create a successful business, you need to hire folks to work with you. As in the real-world, each individual has their own set of unique skills and you need to decide if they are a good fit for your start up. \n",
    "\n",
    "After doing this for some time, you realize reviewing and interviewing new potential candidates is taking up a lot of hours in your hectic work week! You decide to implement a machine learning model to recommend new hires based on the resumes of individuals you have previously hired. \n",
    "\n",
    "&#9989;&nbsp; Spend about 10 minutes playing a round of [Surival of the Best Fit](https://www.survivalofthebestfit.com/). The simulation will walk you through how to hire individuals and the implementation of the ML model. \n"
   ]
  },
  {
   "cell_type": "markdown",
   "metadata": {},
   "source": [
    "## Thinking About the Gams\n",
    "&#9989;&nbsp; Answer the following questions in the cells below based on your experience of interacting with \"Survival of the Best Fit.\"\n",
    "\n",
    "1. Reflection intent vs impact:\n",
    "   1. Why was an algorithm implemented in the first place to assist in hiring new individuals? What was the intention of using machine learning? Was the intention malicious?\n",
    "   2. What was the impact on the candidates of using an algorithm to assist in the hiring process?\n",
    "2. What was your strategy when deciding who to hire? How did the game react to your choices?\n",
    "3. Were you surprised by the tendencies of the algorithm? Why or why not?\n",
    "4. If you have time, play through the simulation a few times. What aspects stay the same, and what changes, regardless of the choices you make?"
   ]
  },
  {
   "cell_type": "markdown",
   "metadata": {},
   "source": [
    "Put your answers here!"
   ]
  },
  {
   "cell_type": "markdown",
   "metadata": {},
   "source": [
    "### ANSWER\n",
    "\n",
    "1. Students should mention that the ML was added to speed up the hiring process. Intent was to make things faster and hire candidates similar to when hiring without the ML. Impact was that the machine learned the biases in the data and when the boss was hiring without the ML - which lead to furthing inequities. \n",
    "2. Any discussion of strategy is fine. Usually looking at candidates CVs and qualifications, maybe looking for one skill over the other. There is some deterministic components built into the game, this can limit/affect choices students are allowed to make. \n",
    "3. Any discussion is fine. Student learn that the algorithm is more likely to hire orange individuals over blue individuals, despite the average performance of both groups being the same. They learn that this decision mimics that of the original boss when they were hiring individuals before using the algorithms. Additionally, the percentage of applicants received in the orange category is also biased due to the types of individuals that typically work (or are allowed to work) in tech; it builds of other systemic inequities. \n",
    "4. There's always a orange/blue inequity as it is built in. "
   ]
  },
  {
   "cell_type": "markdown",
   "metadata": {},
   "source": [
    "# Learning a Litte More \n",
    "\n",
    "After you finish the game, you should be brought to a resources pages on [\"Understanding Algorithmic Bias\"](https://www.survivalofthebestfit.com/resources). \n",
    "\n",
    "&#9989;&nbsp;Spend a few minutes reading through the different sections. "
   ]
  },
  {
   "cell_type": "markdown",
   "metadata": {},
   "source": [
    "In class, we will spend time looking through how the data and the game were constructed. We will compare how the choices the creators of the simulation made and how they mimic real-life biases and inequities. "
   ]
  },
  {
   "cell_type": "markdown",
   "metadata": {},
   "source": [
    "---\n",
    "## Congratulations, you're done!\n",
    "\n",
    "Submit this assignment by uploading your notebook to the course Desire2Learn web page.  Go to the \"In-Class Assignments\" folder, find the appropriate submission link, and upload it there. Make sure your name is on it.\n",
    "\n",
    "See you next class!"
   ]
  },
  {
   "cell_type": "markdown",
   "metadata": {},
   "source": [
    "This assignment was designed by Rachel Roca and Emily Bolger (2024). \n",
    "\n",
    "&#169; Copyright 2023,  Department of Computational Mathematics, Science and Engineering at Michigan State University"
   ]
  },
  {
   "cell_type": "markdown",
   "metadata": {},
   "source": []
  }
 ],
 "metadata": {
  "language_info": {
   "name": "python"
  }
 },
 "nbformat": 4,
 "nbformat_minor": 2
}
