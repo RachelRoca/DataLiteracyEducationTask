{
 "cells": [
  {
   "cell_type": "markdown",
   "metadata": {},
   "source": [
    "# Day 25 - In-Class - Data Dilemmas: Ethics in an Algorithmic World"
   ]
  },
  {
   "cell_type": "markdown",
   "metadata": {},
   "source": [
    "### <p style=\"text-align: right;\"> &#9989; Put your name here</p>\n",
    "#### <p style=\"text-align: right;\"> &#9989; Put your group member names here.</p>"
   ]
  },
  {
   "cell_type": "markdown",
   "metadata": {},
   "source": [
    "\n",
    "<img src=\"https://cdn-images-1.medium.com/max/2000/1*rY3-IGAtdqiDDA9cutdOZA@2x.png\" width=600>\n",
    "\n",
    "## Learning Goals:\n",
    "\n",
    "By the end of this assignment, you should be able to:\n",
    "* Evaluate the impact the data and algorithmic bias can have on real-life decisions\n",
    "* Differentiate between intent and impact of Machine Learning models\n",
    "* Identify benefits and consequences of using ML and AI tools\n",
    "* Compare similarities between models and simulations to real-life inequities\n",
    "* Read and interpret professional code built to create a simulation"
   ]
  },
  {
   "cell_type": "markdown",
   "metadata": {},
   "source": [
    "## Algorithms in our Lives:\n",
    "&#9989;&nbsp; As a group, create a list of algorithms and models that you interact with on a daily basis. Are they determinstic or stochastic? What bias is present in these algorithms? How do you know? **Be prepared to share an example you came up with to the class.**"
   ]
  },
  {
   "cell_type": "markdown",
   "metadata": {},
   "source": [
    "<font size=6 color=\"#009600\">&#9998;</font>   *Write down your answers here.*"
   ]
  },
  {
   "cell_type": "markdown",
   "metadata": {},
   "source": [
    "## Survial of the Best Fit\n",
    "In the pre-class assignment, you played [\"Survival of the Best Fit\"](https://www.survivalofthebestfit.com/) and explored how bias inherent in our world and data can influence the results of an algorithm. Today, we are going to take a deeper dive in to the data that was used to create the simulation and explore how this game mimics hiring practices used by everyday companies. \n",
    "\n",
    "&#9989;&nbsp; In your groups, take a few minutes to discuss things you noticed about the game. Write down a few thoughts below. \n"
   ]
  },
  {
   "cell_type": "markdown",
   "metadata": {},
   "source": [
    "<font size=6 color=\"#009600\">&#9998;</font>   *Write down some notes here.*"
   ]
  },
  {
   "cell_type": "markdown",
   "metadata": {},
   "source": [
    "## Taking a Deep Dive into the Code\n",
    "\n",
    "Now open the `biased_data_gen.ipynb` file from the website. As a group work through that notebook.\n",
    "\n",
    "\n"
   ]
  },
  {
   "cell_type": "markdown",
   "metadata": {},
   "source": [
    "&#9989;&nbsp; After you finish going through the biased data generation notebook, take a few minutes to reflect on the code and the data. Write down some thoughts below. How does the simulated data reflect real systemic issues present in our world?"
   ]
  },
  {
   "cell_type": "markdown",
   "metadata": {},
   "source": [
    "<font size=6 color=\"#009600\">&#9998;</font>   *Write down your answers here.*"
   ]
  },
  {
   "cell_type": "markdown",
   "metadata": {},
   "source": [
    "## Real Life Application\n",
    "It turns out Amazon (and [many more companies](https://www.bbc.com/worklife/article/20240214-ai-recruiting-hiring-software-bias-discrimination ) more recently) have been using Machine Learning and AI algorithm to assist in their hiring practices with mixed success. \n",
    "\n",
    "&#9989;&nbsp; Take a few minutes to read [\"Amazon ditched AI recruiting tool that favored men for technical jobs\"](https://theguardian.com/technology/2018/oct/10/amazon-hiring-ai-gender-bias-recruiting-engine). \n",
    "\n",
    "### Discuss\n",
    "\n",
    "&#9989;&nbsp;  Discuss the follow questions with your group and take some notes on what you talk about. \n",
    "1.  What connections do you seen between \"Survival of the Best Fit\" and Amazon's real-life recruiting tool?\n",
    "2.  Why was Amazon's algorithm bias? What was biased about the training data? \n",
    "3.  How would you feel if you knew a company you applied to was using AI to judge candidates' applications? \n",
    "4.  If you were in a hiring role, would you feel comfortable using AI in hiring decisions? What steps might you take to help mitigate bias? \n"
   ]
  },
  {
   "cell_type": "markdown",
   "metadata": {},
   "source": [
    "<font size=6 color=\"#009600\">&#9998;</font>   *Write down some notes here.*"
   ]
  },
  {
   "cell_type": "markdown",
   "metadata": {},
   "source": [
    "## Different Platforms, Different Algorithms\n",
    "\n",
    "Now that you have explored how bias can be embedded in data and algorithmic choices, let's take a look at how different algorithms can be used to shape user's experiences on different platforms. Specifically, let's take a look **Twitter (now called X)** and **BlueSky**. Your group will split in half, with one half researching Twitter and the other half researching BlueSky. \n",
    "\n",
    "&#9989;&nbsp; *Take notes below about what you learn about how each platform uses algorithms to shape user experiences.* Make sure to include the references or links to the sources you used to find this information. **Be prepared to share at least one finding with the class.**"
   ]
  },
  {
   "cell_type": "markdown",
   "metadata": {},
   "source": [
    "<font size=6 color=\"#009600\">&#9998;</font>   *Write down some notes here.*"
   ]
  },
  {
   "cell_type": "markdown",
   "metadata": {},
   "source": [
    "## Share Your Highlights\n",
    "We will spend the last 10-15 minutes of class sharing what you learned and discussed. Make sure to note a few things to share with the rest of the class."
   ]
  },
  {
   "cell_type": "markdown",
   "metadata": {},
   "source": [
    "## Takeaways from Today's In-Class\n",
    "Today's assignment should have made you more aware about the power and the real-life harm that algorithm can cause. While they can provide great benefits like being cost-effective and speeding up time-consuming processes, they can also perpetuate harm existent in our world. Some more takeaways:\n",
    "- Pros: \n",
    "  * Algorithms can help reduce workload and synthesize large amounts of data. \n",
    "  * When implemented appropriately and thoughtfully, algorithms may help uncover patterns in candidates. \n",
    "- Cons: \n",
    "  * Algorithms reflect the data they are given. Bias in the data implies there is bias in the model. \n",
    "  * As we learned earlier in the class, all data contains bias!\n",
    "  * Bias goes beyond gender, as we talked about in this case. It can also portray ageism, ableism, racism, socioeconomic status, etc. Similarly, algorithms can favor key words in resumes that might not be present in resumes of candidates that are highly qualified.\n",
    "  * Not using data that explicitly contains race, sex, or other identities does not mean that our algorithms will not negatively impact certain groups. These groups tend to be the most marginalized and underrepresented.\n",
    "\n",
    "Read More in [Algorithmic and Data Bias](https://medium.com/@sahin.samia/navigating-the-pitfalls-of-ai-in-hiring-unveiling-algorithmic-bias-9e62b50b3f65#:~:text=Imagine%20AI%20tools%20as%20mirrors,and%20diversity%20in%20the%20workplace.).\n"
   ]
  },
  {
   "cell_type": "markdown",
   "metadata": {},
   "source": [
    "<font size=6 color=\"#009600\">&#9998;</font>   *Add any last reflections here.*"
   ]
  },
  {
   "cell_type": "markdown",
   "metadata": {},
   "source": [
    "---\n",
    "## Assignment wrapup\n",
    "Please fill out the form that appears when you run the code below. You must completely fill this out in order to receive credit for the assignment!"
   ]
  },
  {
   "cell_type": "code",
   "execution_count": null,
   "metadata": {
    "vscode": {
     "languageId": "plaintext"
    }
   },
   "outputs": [],
   "source": [
    "from IPython.display import HTML\n",
    "HTML(\n",
    "\"\"\"\n",
    "<iframe \n",
    "\tsrc=\"https://cmse.msu.edu/cmse201-ic-survey\" \n",
    "\twidth=\"800px\" \n",
    "\theight=\"600px\" \n",
    "\tframeborder=\"0\" \n",
    "\tmarginheight=\"0\" \n",
    "\tmarginwidth=\"0\">\n",
    "\tLoading...\n",
    "</iframe>\n",
    "\"\"\"\n",
    ")"
   ]
  },
  {
   "cell_type": "markdown",
   "metadata": {},
   "source": [
    "## Congratulations, you're done!\n",
    "\n",
    "Submit this assignment by uploading your notebook to the course web page. \n",
    "\n",
    "See you next class!"
   ]
  },
  {
   "cell_type": "markdown",
   "metadata": {},
   "source": [
    "This assignment was designed by Emily Bolger and Rachel Roca (2024). \n",
    "\n",
    "&#169; Copyright 2024,  Department of Computational Mathematics, Science and Engineering at Michigan State University, All rights reserved."
   ]
  },
  {
   "cell_type": "markdown",
   "metadata": {},
   "source": [
    "Creative Commons Attribution-NonCommercial-ShareAlike 4.0 International\n",
    "This license requires that reusers give credit to the creator. It allows reusers to distribute, remix, adapt, and build upon the material in any medium or format, for noncommercial purposes only. If others modify or adapt the material, they must license the modified material under identical terms.\n",
    "\n",
    "BY Credit must be given to you, the creator.\n",
    "NC Only noncommercial use of your work is permitted. Noncommercial means not primarily intended for or directed towards commercial advantage or monetary compensation.\n",
    "SA Adaptations must be shared under the same terms.\n",
    "\n",
    "https://creativecommons.org/licenses/by-nc-sa/4.0/"
   ]
  },
  {
   "cell_type": "markdown",
   "metadata": {},
   "source": []
  }
 ],
 "metadata": {
  "kernelspec": {
   "display_name": "Python 3 (ipykernel)",
   "language": "python",
   "name": "python3"
  },
  "language_info": {
   "codemirror_mode": {
    "name": "ipython",
    "version": 3
   },
   "file_extension": ".py",
   "mimetype": "text/x-python",
   "name": "python",
   "nbconvert_exporter": "python",
   "pygments_lexer": "ipython3",
   "version": "3.11.5"
  }
 },
 "nbformat": 4,
 "nbformat_minor": 4
}
